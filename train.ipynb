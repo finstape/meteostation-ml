{
  "nbformat": 4,
  "nbformat_minor": 0,
  "metadata": {
    "colab": {
      "provenance": []
    },
    "kernelspec": {
      "name": "python3",
      "display_name": "Python 3"
    },
    "language_info": {
      "name": "python"
    }
  },
  "cells": [
    {
      "cell_type": "code",
      "source": [
        "import pandas as pd\n",
        "from sklearn.linear_model import LogisticRegression\n",
        "from sklearn.preprocessing import StandardScaler\n",
        "from sklearn.model_selection import train_test_split\n",
        "import joblib\n",
        "\n",
        "# Загрузка и обработка вашего CSV\n",
        "df = pd.read_csv('weatherHistory.csv')\n",
        "df = df.dropna(subset=['Precip Type'])\n",
        "df['Rain'] = df['Precip Type'].apply(lambda x: 1 if x == 'rain' else 0)\n",
        "\n",
        "# Преобразуем колонку в datetime\n",
        "df['Formatted Date'] = pd.to_datetime(df['Formatted Date'], utc=True, errors='coerce')\n",
        "\n",
        "# Удалим строки, где не удалось преобразовать дату\n",
        "df = df.dropna(subset=['Formatted Date'])\n",
        "\n",
        "# Теперь можно безопасно извлекать час\n",
        "df['Hour'] = df['Formatted Date'].dt.hour\n",
        "\n",
        "# Смещение на 6 часов вперёд\n",
        "df = df.sort_values('Formatted Date').reset_index(drop=True)\n",
        "df['Rain_in_6h'] = df['Rain'].shift(-6)\n",
        "df = df.dropna(subset=['Rain_in_6h'])\n",
        "\n",
        "# Признаки и целевая переменная\n",
        "X = df[['Temperature (C)', 'Humidity', 'Pressure (millibars)', 'Hour']]\n",
        "y = df['Rain_in_6h'].astype(int)\n",
        "\n",
        "# Масштабирование\n",
        "scaler = StandardScaler()\n",
        "X_scaled = scaler.fit_transform(X)\n",
        "\n",
        "# Обучение\n",
        "X_train, X_test, y_train, y_test = train_test_split(X_scaled, y, random_state=42)\n",
        "model = LogisticRegression(max_iter=1000)\n",
        "model.fit(X_train, y_train)\n",
        "\n",
        "# Сохранение\n",
        "joblib.dump(model, 'rain_model_v161.pkl')\n",
        "joblib.dump(scaler, 'rain_scaler_v161.pkl')\n"
      ],
      "metadata": {
        "colab": {
          "base_uri": "https://localhost:8080/"
        },
        "id": "8Gp1hcChB1h8",
        "outputId": "f38271b2-f54a-4c3c-d27d-df6470478b8d"
      },
      "execution_count": null,
      "outputs": [
        {
          "output_type": "execute_result",
          "data": {
            "text/plain": [
              "['rain_scaler_v161.pkl']"
            ]
          },
          "metadata": {},
          "execution_count": 8
        }
      ]
    },
    {
      "cell_type": "code",
      "source": [],
      "metadata": {
        "id": "N7_jEF9HCDEy"
      },
      "execution_count": null,
      "outputs": []
    }
  ]
}